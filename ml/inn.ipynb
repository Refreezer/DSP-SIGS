{
 "metadata": {
  "language_info": {
   "codemirror_mode": {
    "name": "ipython",
    "version": 3
   },
   "file_extension": ".py",
   "mimetype": "text/x-python",
   "name": "python",
   "nbconvert_exporter": "python",
   "pygments_lexer": "ipython3",
   "version": "3.8.2-final"
  },
  "orig_nbformat": 2,
  "kernelspec": {
   "name": "python3",
   "display_name": "Python 3"
  }
 },
 "nbformat": 4,
 "nbformat_minor": 2,
 "cells": [
  {
   "cell_type": "code",
   "execution_count": null,
   "metadata": {},
   "outputs": [],
   "source": [
    "import numpy as np\n",
    "import matplotlib.pyplot as plt\n",
    "import pandas as pd\n",
    "from sklearn.linear_model import Perceptron \n",
    "from sklearn.model_selection import train_test_split\n",
    "from sklearn.model_selection import cross_val_score"
   ]
  },
  {
   "cell_type": "code",
   "execution_count": null,
   "metadata": {},
   "outputs": [],
   "source": [
    "df = pd.read_csv('s.csv')\n",
    "dfx = df.take([i for i in range(0,60)], axis=1)\n",
    "dfy = df.take([60], axis=1)"
   ]
  },
  {
   "cell_type": "code",
   "execution_count": null,
   "metadata": {},
   "outputs": [],
   "source": [
    "dfy_train = [0.0 if y == 'R' else 1.0 for y in dfy.values]\n",
    "x_train, x_test, y_train, y_test = train_test_split(dfx.values, dfy_train, test_size=.2,  random_state=42)\n"
   ]
  },
  {
   "cell_type": "code",
   "execution_count": null,
   "metadata": {},
   "outputs": [],
   "source": [
    "class inn:\n",
    "    def __init__(self, l_rate, n_epoch):\n",
    "        self.l_rate = l_rate\n",
    "        self.n_epoch = n_epoch\n",
    "        self.weights = []\n",
    "\n",
    "    def predict(self, row):\n",
    "        weights = self.weights\n",
    "        activation = weights[0]\n",
    "        for i in range(len(row)):\n",
    "            activation += weights[i + 1] * row[i]\n",
    "\n",
    "        return 1.0 if activation >= 0.0 else 0.0\n",
    "\n",
    "    def fit(self, x_train, y_train):\n",
    "        l_rate = self.l_rate\n",
    "        n_epoch = self.n_epoch\n",
    "        data = []\n",
    "        weights = [0.0 for i in range(len(x_train[0]) + 1)]\n",
    "        for epoch in range(n_epoch):\n",
    "            sum_error = 0.0\n",
    "            cur = 0\n",
    "            for row in x_train:\n",
    "                prediction = predict(row, weights)\n",
    "                error = y_train[cur] - prediction\n",
    "                cur = cur + 1\n",
    "                sum_error += abs(error)\n",
    "                weights[0] = weights[0] + l_rate * error / 100\n",
    "                for i in range(len(row)):\n",
    "                    weights[i + 1] = weights[i + 1] + l_rate * error * row[i]\n",
    "        self.weights = weights\n"
   ]
  },
  {
   "cell_type": "code",
   "execution_count": null,
   "metadata": {
    "tags": []
   },
   "outputs": [],
   "source": [
    "import random\n",
    "\n",
    "def cross_validate(clf, df, kfold):\n",
    "    idxs = list(range(len(df)))\n",
    "    random.shuffle(idxs)\n",
    "    dfx = df.take([i for i in range(len(df) - 1)], axis=1)\n",
    "    dfy = df[-1]\n",
    "    dfy_train = [0.0 if y == 'R' else 1.0 for y in dfy.values]\n",
    "    nice_predicted = 0\n",
    "    l = 0\n",
    "    for i in range(int(len(idxs)/kfold)):\n",
    "        start = i * kfold\n",
    "        end = (i+1) * kfold - 1\n",
    "        x_train, x_test, y_train, y_test = train_test_split(dfx.values[start:end], dfy_train[start:end], test_size=.2,)\n",
    "        clf.fit(x_train, y_train)\n",
    "        for j in range(len(x_test)):\n",
    "            predicted_val = clf.predict(x_test[j])\n",
    "            # print(y_test[j], predicted_val)\n",
    "            nice_predicted += 1 if y_test[j] == predicted_val else 0\n",
    "            l += 1\n",
    "    print(nice_predicted/l)\n",
    "    print(l)\n",
    "\n",
    "\n",
    "l_rate = 0.15\n",
    "n_epoch = 10\n",
    "kfold = 10\n",
    "clf = inn(l_rate, n_epoch)\n",
    "cross_validate(clf, df, kfold)\n",
    "\n"
   ]
  },
  {
   "cell_type": "code",
   "execution_count": 24,
   "metadata": {
    "tags": []
   },
   "outputs": [
    {
     "output_type": "stream",
     "name": "stdout",
     "text": [
      "999999\nвероятность выкинуть в сумме 30.004551004551004551,\n вероятность выкинуть в сумме 40.013595013595013595\n"
     ]
    }
   ],
   "source": [
    "from random import randint, uniform\n",
    "import numpy as np\n",
    "\n",
    "\n",
    "overall = 1000000\n",
    "ok3 = 0\n",
    "ok4 = 0\n",
    "summs = [0] * 19\n",
    "\n",
    "\n",
    "for i in range(1, overall):\n",
    "    summ = sum([randint(1,6), randint(1,6), randint(1,6)])\n",
    "    summs[summ] += 1\n",
    "    \n",
    "\n",
    "print(overall)\n",
    "print(f\"вероятность выкинуть в сумме 3{summs[3]/overall},\\n вероятность выкинуть в сумме 4{summs[4]/overall}\")\n",
    "\n"
   ]
  },
  {
   "cell_type": "code",
   "execution_count": null,
   "metadata": {},
   "outputs": [],
   "source": []
  }
 ]
}