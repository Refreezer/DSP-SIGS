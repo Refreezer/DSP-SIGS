{
 "metadata": {
  "language_info": {
   "codemirror_mode": {
    "name": "ipython",
    "version": 3
   },
   "file_extension": ".py",
   "mimetype": "text/x-python",
   "name": "python",
   "nbconvert_exporter": "python",
   "pygments_lexer": "ipython3",
   "version": "3.8.2-final"
  },
  "orig_nbformat": 2,
  "kernelspec": {
   "name": "Python 3.8.2 32-bit",
   "display_name": "Python 3.8.2 32-bit",
   "metadata": {
    "interpreter": {
     "hash": "f686e8da9b6aa8561b1a8f572a550b47c0c05bf9472c50602dfb116a1c5f318b"
    }
   }
  }
 },
 "nbformat": 4,
 "nbformat_minor": 2,
 "cells": [
  {
   "cell_type": "code",
   "execution_count": 1,
   "metadata": {},
   "outputs": [],
   "source": [
    "import pandas as pd\n",
    "import numpy as np\n",
    "from matplotlib import pyplot as plt\n",
    "from sklearn.discriminant_analysis import LinearDiscriminantAnalysis as LDA\n",
    "from sklearn.naive_bayes import GaussianNB\n",
    "from sklearn.preprocessing import normalize\n",
    "from sklearn.decomposition import PCA\n",
    "from sklearn.metrics import plot_confusion_matrix, accuracy_score\n",
    "import random\n",
    "from sklearn.model_selection import cross_val_score, StratifiedKFold\n",
    "from sklearn.pipeline import Pipeline\n",
    "from sklearn.preprocessing import StandardScaler"
   ]
  },
  {
   "cell_type": "code",
   "execution_count": null,
   "metadata": {},
   "outputs": [],
   "source": [
    "\n",
    "df = pd.read_csv(\"wine.data\", sep=\",\", encoding=\"utf-8\", header=None)\n",
    "cl1_idx, cl2_idx, cl3_idx = map(lambda el : el[1].index, df.groupby(0))\n",
    "df_noclass = df.drop([0], axis=\"columns\")\n",
    "\n",
    "class1 = df_noclass.iloc[cl1_idx]\n",
    "class2 = df_noclass.iloc[cl2_idx]\n",
    "class3 = df_noclass.iloc[cl3_idx]\n"
   ]
  },
  {
   "source": [
    "Для набора wine.data применить ЛДА (n=2). Найти величину объясняемой дисперсии. Нарисовать график рассеяния одной компоненты от другой."
   ],
   "cell_type": "markdown",
   "metadata": {}
  },
  {
   "cell_type": "code",
   "execution_count": null,
   "metadata": {},
   "outputs": [],
   "source": [
    "\n",
    "\n",
    "lda = LDA(n_components=2, store_covariance=True, solver=\"eigen\")\n",
    "lda_result = lda.fit_transform(df_noclass, df[0])\n",
    "\n",
    "fig,ax = plt.subplots(1)\n",
    "ax.set_facecolor([0.207, 0.205, 0.204])\n",
    "ax.scatter(lda_result[cl1_idx, 0], lda_result[cl1_idx, 1], color=\"g\")\n",
    "ax.scatter(lda_result[cl2_idx, 0], lda_result[cl2_idx, 1], color=\"cyan\")\n",
    "ax.scatter(lda_result[cl3_idx, 0], lda_result[cl3_idx, 1], color=\"m\")\n",
    "\n",
    "print(lda.explained_variance_ratio_)\n",
    "plt.show()\n",
    "plt.clf()\n",
    "\n"
   ]
  },
  {
   "source": [
    "Аналогично для PCA"
   ],
   "cell_type": "markdown",
   "metadata": {}
  },
  {
   "cell_type": "code",
   "execution_count": null,
   "metadata": {},
   "outputs": [],
   "source": [
    "\n",
    "\n",
    "pca = PCA(n_components=2)\n",
    "pca_result = pca.fit_transform(df_noclass, df[0])\n",
    "fig,ax = plt.subplots(1)\n",
    "ax.set_facecolor([0.207, 0.205, 0.204])\n",
    "ax.scatter(pca_result[cl1_idx, 0], pca_result[cl1_idx, 1], color=\"g\")\n",
    "ax.scatter(pca_result[cl2_idx, 0], pca_result[cl2_idx, 1], color=\"cyan\")\n",
    "ax.scatter(pca_result[cl3_idx, 0], pca_result[cl3_idx, 1], color=\"m\")\n",
    "\n",
    "print(pca.explained_variance_ratio_)\n",
    "plt.show()\n",
    "\n"
   ]
  },
  {
   "cell_type": "code",
   "execution_count": null,
   "metadata": {},
   "outputs": [],
   "source": [
    "model_baseline = Pipeline([\n",
    "    ('scaler', StandardScaler()),\n",
    "    ('clf', GaussianNB)\n",
    "])\n",
    "cv = StratifiedKFold(n_splits=2, shuffle=True, random_state=123)"
   ]
  },
  {
   "source": [
    "Применить наивный байесовский классификатор к результатам ЛДА."
   ],
   "cell_type": "markdown",
   "metadata": {}
  },
  {
   "cell_type": "code",
   "execution_count": null,
   "metadata": {},
   "outputs": [],
   "source": [
    "nb = GaussianNB()\n",
    "rand_idx = [random.randint(0, len(df) - 1) for i in range(int(len(df) * 0.2))]\n",
    "# print(rand_idx)\n",
    "nb.fit(lda_result[rand_idx], df.iloc[rand_idx][0])\n",
    "idxs = [i for i in df.index if not i in rand_idx]\n",
    "predicted, actual = nb.predict(lda_result[idxs]),  df.iloc[idxs][0] \n",
    "# plot_confusion_matrix(nb, lda_result[idxs], df.iloc[idxs][0])\n",
    "print(\"score = \" + str(accuracy_score(actual, predicted, normalize=False)/ len(idxs)))\n",
    "\n",
    "fig, ax = plt.subplots(2)\n",
    "ax[0].set_facecolor([0.207, 0.205, 0.204])\n",
    "ax[1].set_facecolor([0.207, 0.205, 0.204])\n",
    "\n",
    "for i in range(len(predicted)):\n",
    "    if(predicted[i] == 1):\n",
    "        color = 'g'\n",
    "    elif(predicted[i] == 2):\n",
    "        color = 'c'\n",
    "    elif(predicted[i] == 3):\n",
    "        color = 'm'\n",
    "    ax[0].scatter(lda_result[idxs][i,0], lda_result[idxs][i,1], color=color)\n",
    "\n",
    "ax[1].scatter(lda_result[[i for i in cl1_idx if i in idxs], 0], lda_result[[i for i in cl1_idx if i in idxs], 1], color = 'g')\n",
    "ax[1].scatter(lda_result[[i for i in cl2_idx if i in idxs], 0], lda_result[[i for i in cl2_idx if i in idxs], 1], color = 'c')\n",
    "ax[1].scatter(lda_result[[i for i in cl3_idx if i in idxs], 0], lda_result[[i for i in cl3_idx if i in idxs], 1], color = 'm')\n",
    "plt.show()\n",
    "# print(cross_val_score(model_baseline, df_noclass.iloc[idxs], df.iloc[idxs][0], scoring='accuracy', cv=cv)).mean()"
   ]
  },
  {
   "source": [
    "Задание. Для набора wine.data применить классификатор k-ближайших соседей. Найти оптимальное значение k."
   ],
   "cell_type": "markdown",
   "metadata": {}
  },
  {
   "cell_type": "code",
   "execution_count": null,
   "metadata": {},
   "outputs": [],
   "source": [
    "from sklearn.neighbors import KNeighborsClassifier"
   ]
  },
  {
   "cell_type": "code",
   "execution_count": null,
   "metadata": {},
   "outputs": [],
   "source": [
    "full_idx = list(range(len(df)))\n",
    "random.shuffle(full_idx)\n",
    "# rand_idx = [full_idx.pop(0) for i in range(int(len(df) * 0.8))]\n",
    "# idxs = [i for i in df.index if not i in rand_idx]\n",
    "\n",
    "# print(rand_idx)\n",
    "score = [[], []]\n",
    "\n",
    "for i in range(1,30):\n",
    "    nn = KNeighborsClassifier(n_neighbors = i)\n",
    "    nn.fit(df_noclass.iloc[rand_idx], df.iloc[rand_idx][0])\n",
    "    predicted, actual = nn.predict(df_noclass.iloc[idxs]),  df.iloc[idxs][0] \n",
    "\n",
    "    # plot_confusion_matrix(nn, df_noclass.iloc[idxs], df.iloc[idxs][0])\n",
    "    score[1].append(accuracy_score(actual, predicted, normalize=False)/ len(idxs))\n",
    "    score[0].append(i)\n",
    "    # print(\"score = \" + str(score))\n",
    "    # print(accuracy_score(actual, predicted, normalize=False)/ len(idxs))\n",
    "    # print(nn.score(actual, predicted))\n",
    "plt.plot(score[0], score[1], color = \"b\")\n",
    "plt.show()"
   ]
  },
  {
   "cell_type": "code",
   "execution_count": null,
   "metadata": {},
   "outputs": [],
   "source": [
    "from sklearn.cluster import KMeans"
   ]
  },
  {
   "cell_type": "code",
   "execution_count": null,
   "metadata": {},
   "outputs": [],
   "source": [
    "from sklearn.cluster import KMeans"
   ]
  },
  {
   "cell_type": "code",
   "execution_count": null,
   "metadata": {},
   "outputs": [],
   "source": [
    "kmeans = KMeans(init = \"random\", n_clusters=3)\n",
    "X = lda_result[idxs]\n",
    "kmeans.fit(lda_result[rand_idx])\n",
    "y_kmeans = kmeans.predict(lda_result[idxs])"
   ]
  },
  {
   "cell_type": "code",
   "execution_count": null,
   "metadata": {},
   "outputs": [],
   "source": [
    "plt.scatter(X[:, 0], X[:, 1], c = y_kmeans, s = 20, cmap = 'summer')\n",
    "centers = kmeans.cluster_centers_\n",
    "plt.scatter(centers[:, 0], centers[:, 1], c = 'blue', s = 100, alpha = 0.9);\n",
    "plt.show()"
   ]
  },
  {
   "cell_type": "code",
   "execution_count": 12,
   "metadata": {},
   "outputs": [
    {
     "output_type": "stream",
     "name": "stdout",
     "text": [
      "ready\n"
     ]
    }
   ],
   "source": [
    "path = \"E:\\\\Загрузки\\\\\"\n",
    "\n",
    "dfnames = pd.read_csv(path + \"russian_names.csv\", sep=\";\")\n",
    "dfsurnames = pd.read_csv(path + \"russian_surnames.csv\", sep=\";\")\n",
    "with open(path + 'out.txt', mode=\"w\", encoding='utf-8') as out:\n",
    "    for name, surname in zip(dfnames['Name'], dfsurnames['Surname']):\n",
    "        out.write(\"INSERT INTO NPF.dbo.PersonReference (\" + name + \",\" + \"Иванов,\"+ surname + \",\" + \" '1960.20.12', 1)\" + '\\n')\n",
    "print('ready')\n"
   ]
  },
  {
   "cell_type": "code",
   "execution_count": null,
   "metadata": {},
   "outputs": [],
   "source": []
  }
 ]
}