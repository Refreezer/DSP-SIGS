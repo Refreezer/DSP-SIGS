{
 "metadata": {
  "language_info": {
   "codemirror_mode": {
    "name": "ipython",
    "version": 3
   },
   "file_extension": ".py",
   "mimetype": "text/x-python",
   "name": "python",
   "nbconvert_exporter": "python",
   "pygments_lexer": "ipython3",
   "version": "3.8.2-final"
  },
  "orig_nbformat": 2,
  "kernelspec": {
   "name": "Python 3.8.2 32-bit",
   "display_name": "Python 3.8.2 32-bit",
   "metadata": {
    "interpreter": {
     "hash": "357ddb9c4aa3bf45c4f231375bfd21f6824b85d70833a5a2cf1640817839a0d2"
    }
   }
  }
 },
 "nbformat": 4,
 "nbformat_minor": 2,
 "cells": [
  {
   "cell_type": "code",
   "execution_count": 6,
   "metadata": {},
   "outputs": [],
   "source": [
    "import numpy as np"
   ]
  },
  {
   "cell_type": "code",
   "execution_count": null,
   "metadata": {},
   "outputs": [],
   "source": [
    "matrix = np.zeros((8,6), dtype=bool)"
   ]
  },
  {
   "cell_type": "code",
   "execution_count": 30,
   "metadata": {},
   "outputs": [
    {
     "output_type": "stream",
     "name": "stdout",
     "text": [
      "[[ True  True False  True  True  True  True False]\n [False False False  True False False False  True]\n [False False False False False  True False False]\n [False False  True  True  True  True  True  True]\n [False  True  True False False  True  True  True]\n [ True False  True  True False False False  True]]\n"
     ]
    }
   ],
   "source": [
    "# г\n",
    "matrix = np.array([[1, 1, 1, 0, 1, 0, 0, 0],\n",
    "        [1, 0, 0, 1, 0, 0, 1, 1],\n",
    "        [1, 1, 0, 0, 1, 1, 0, 1],\n",
    "        [0, 0, 0, 1, 1, 0, 0, 1],\n",
    "        [0, 1, 0, 1, 0, 1, 1, 0],\n",
    "        [0, 0, 1, 0, 1, 0, 1, 0]], dtype=bool)\n",
    "\n",
    "# В\n",
    "# matrix = np.array([[1,1,0,1,1,1,1,0],\n",
    "#                     [0,0,0,1,0,0,0,1],\n",
    "#                     [0,0,0,0,0,1,0,0],\n",
    "#                     [0,0,1,1,1,1,1,1],\n",
    "#                     [0,1,1,0,0,1,1,1],\n",
    "#                     [1,0,1,1,0,0,0,1]], dtype=bool)\n",
    "\n",
    "print(matrix)"
   ]
  },
  {
   "cell_type": "code",
   "execution_count": 31,
   "metadata": {},
   "outputs": [
    {
     "output_type": "stream",
     "name": "stdout",
     "text": [
      "(5 V 6)(1 V 4 V 5)(2 V 4)(4 V 6)(3 V 4 V 5 V 6)(4 V 5 V 6)(1 V 2 V 4 V 5)*\n(1 V 4 V 6)(2 V 4 V 5 V 6)(4 V 5)(3 V 4)(4)(1 V 2 V 4 V 6)*\n(1 V 2 V 5)(1 V 5 V 6)(1 V 3 V 6)(1 V 6)(2)*\n(2 V 6)(2 V 3 V 5 V 6)(2 V 5 V 6)(1 V 5)*\n(3 V 5)(5)(1 V 2 V 5 V 6)*\n(3)(1 V 2 V 3 V 6)*\n(1 V 2 V 6)*\n*\n"
     ]
    }
   ],
   "source": [
    "columns_cnt = np.shape(matrix)[1]\n",
    "for i in range(columns_cnt):\n",
    "    for j in range(i + 1, columns_cnt):\n",
    "        colA = matrix[:, i]\n",
    "        colB = matrix[:, j]\n",
    "        diff = np.logical_xor(colA, colB)\n",
    "        res = [k + 1 for k in range(len(diff)) if diff[k] == True]\n",
    "        print(\"(\" + \" V \".join(map(lambda el : str(el), res)) + \")\", end = \"\")\n",
    "    # print()\n",
    "    # print('-------------------------------')\n",
    "    # print()\n",
    "    print('*')\n",
    "        "
   ]
  },
  {
   "cell_type": "code",
   "execution_count": null,
   "metadata": {},
   "outputs": [],
   "source": []
  }
 ]
}